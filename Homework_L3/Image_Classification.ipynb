{
  "cells": [
    {
      "cell_type": "code",
      "source": [
        "from matplotlib import pyplot as plt\n",
        "from keras.datasets import cifar10\n",
        "from keras.models import Sequential\n",
        "from keras.layers import Conv2D, MaxPooling2D\n",
        "from keras.layers import Dense, Dropout, Activation\n",
        "from keras.layers import Flatten, BatchNormalization\n",
        "from keras import regularizers\n",
        "from keras.optimizers import SGD\n",
        "from keras.utils import np_utils\n",
        "(train_x, train_y), (val_x, val_y) = cifar10.load_data()\n",
        "train_x = train_x.astype('float32')\n",
        "val_x = val_x.astype('float32')\n",
        "train_x = train_x / 255.0\n",
        "val_x = val_x / 255.0\n",
        "train_y = np_utils.to_categorical(train_y)\n",
        "val_y = np_utils.to_categorical(val_y)\n",
        "num_classes = val_y.shape[1]\n",
        "print(train_x.shape)\n",
        "print(train_y.shape)\n",
        "weight_decay = 1e-4\n",
        "model = Sequential()\n",
        "model.add(Conv2D(32, (3, 3), padding='same', kernel_regularizer=regularizers.l2(weight_decay), input_shape=(32,32,3)))\n",
        "model.add(Activation('elu'))\n",
        "model.add(BatchNormalization())\n",
        "model.add(Conv2D(32, (3, 3), padding='same', kernel_regularizer=regularizers.l2(weight_decay)))\n",
        "model.add(Activation('elu'))\n",
        "model.add(BatchNormalization())\n",
        "model.add(MaxPooling2D(pool_size=(2, 2)))\n",
        "model.add(Dropout(0.2))\n",
        "model.add(Conv2D(64, (3, 3), padding='same', kernel_regularizer=regularizers.l2(weight_decay)))\n",
        "model.add(Activation('elu'))\n",
        "model.add(BatchNormalization())\n",
        "model.add(Conv2D(64, (3, 3), padding='same', kernel_regularizer=regularizers.l2(weight_decay)))\n",
        "model.add(Activation('elu'))\n",
        "model.add(BatchNormalization())\n",
        "model.add(MaxPooling2D(pool_size=(2, 2)))\n",
        "model.add(Dropout(0.3))\n",
        "model.add(Conv2D(128, (3, 3), padding='same', kernel_regularizer=regularizers.l2(weight_decay)))\n",
        "model.add(Activation('elu'))\n",
        "model.add(BatchNormalization())\n",
        "model.add(Conv2D(128, (3, 3), padding='same', kernel_regularizer=regularizers.l2(weight_decay)))\n",
        "model.add(Activation('elu'))\n",
        "model.add(BatchNormalization())\n",
        "model.add(MaxPooling2D(pool_size=(2, 2)))\n",
        "model.add(Dropout(0.4))\n",
        "model.add(Flatten())\n",
        "model.add(Dense(num_classes, activation='softmax'))\n",
        "epochs = 40\n",
        "lrate = 0.01\n",
        "decay = lrate/epochs\n",
        "sgd = SGD(lr=lrate, momentum=0.9, decay=decay, nesterov=False)\n",
        "model.compile(loss='categorical_crossentropy', optimizer=sgd, metrics=['accuracy'])\n",
        "history = model.fit(train_x, train_y, validation_data=(val_x, val_y), epochs=epochs, batch_size=64)\n",
        "plt.title('Classification Accuracy')\n",
        "plt.plot(history.history['accuracy'], color='blue', label='train')\n",
        "plt.plot(history.history['val_accuracy'], color='orange', label='test')\n",
        "plt.show()\n",
        "scores = model.evaluate(val_x, val_y, verbose=0)\n",
        "print(\"Accuracy: %.2f%%\" % (scores[1]*100))"
      ],
      "outputs": [
        {
          "output_type": "stream",
          "name": "stderr",
          "text": [
            "Using TensorFlow backend.\n"
          ]
        },
        {
          "output_type": "stream",
          "name": "stdout",
          "text": [
            "Downloading data from https://www.cs.toronto.edu/~kriz/cifar-10-python.tar.gz\n",
            "170500096/170498071 [==============================] - 2s 0us/step\b\b\b\b\b\b\b\b\b\b\b\b\b\b\b\b\b\b\b\b\b\b\b\b\b\b\b\b\b\b\b\b\b\b\b\b\b\b\b\b\b\b\b\b\b\b\b\b\b\b\b\b\b\b\b\b\b\b\b\b\b\b\n",
            "(50000, 32, 32, 3)\n",
            "(50000, 10)\n",
            "Train on 50000 samples, validate on 10000 samples\n",
            "Epoch 1/40\n",
            "50000/50000 [==============================] - 62s 1ms/step - loss: 1.9090 - accuracy: 0.4532 - val_loss: 1.2229 - val_accuracy: 0.5802\b\b\b\b\b\b\b\b\b\b\b\b\b\b\b\b\b\b\b\b\b\b\b\b\b\b\b\b\b\b\b\b\b\b\b\b\b\b\b\b\b\b\b\b\b\b\b\b\b\b\b\n",
            "Epoch 2/40\n",
            "50000/50000 [==============================] - 31s 611us/step - loss: 1.0996 - accuracy: 0.6236 - val_loss: 1.0326 - val_accuracy: 0.6576\b\b\b\b\b\b\b\b\b\b\b\b\b\b\b\b\b\b\b\b\b\b\b\b\b\b\b\b\b\b\b\b\b\b\b\b\b\b\b\b\b\n",
            "Epoch 3/40\n",
            "50000/50000 [==============================] - 30s 609us/step - loss: 0.9457 - accuracy: 0.6844 - val_loss: 0.8511 - val_accuracy: 0.7184\b\b\b\b\b\b\b\b\b\b\b\b\b\b\b\b\b\b\b\b\b\b\b\b\b\b\b\b\b\b\b\b\b\b\b\b\b\b\b\b\b\n",
            "Epoch 4/40\n",
            "50000/50000 [==============================] - 30s 610us/step - loss: 0.8469 - accuracy: 0.7191 - val_loss: 0.8445 - val_accuracy: 0.7205\b\b\b\b\b\b\b\b\b\b\b\b\b\b\b\b\b\b\b\b\b\b\b\b\b\b\b\b\b\b\b\b\b\b\b\b\b\b\b\b\b\n",
            "Epoch 5/40\n",
            "50000/50000 [==============================] - 30s 609us/step - loss: 0.7805 - accuracy: 0.7425 - val_loss: 0.7406 - val_accuracy: 0.7604\b\b\b\b\b\b\b\b\b\b\b\b\b\b\b\b\b\b\b\b\b\b\b\b\b\b\b\b\b\b\b\b\b\b\b\b\b\b\b\b\b\n",
            "Epoch 6/40\n",
            "50000/50000 [==============================] - 31s 610us/step - loss: 0.7363 - accuracy: 0.7582 - val_loss: 0.7287 - val_accuracy: 0.7677\b\b\b\b\b\b\b\b\b\b\b\b\b\b\b\b\b\b\b\b\b\b\b\b\b\b\b\b\b\b\b\b\b\b\b\b\b\b\b\b\b\n",
            "Epoch 7/40\n",
            "50000/50000 [==============================] - 31s 613us/step - loss: 0.6921 - accuracy: 0.7745 - val_loss: 0.6747 - val_accuracy: 0.7883\b\b\b\b\b\b\b\b\b\b\b\b\b\b\b\b\b\b\b\b\b\b\b\b\b\b\b\b\b\b\b\b\b\b\b\b\b\b\b\b\b\n",
            "Epoch 8/40\n",
            "50000/50000 [==============================] - 31s 610us/step - loss: 0.6587 - accuracy: 0.7868 - val_loss: 0.6731 - val_accuracy: 0.7875\b\b\b\b\b\b\b\b\b\b\b\b\b\b\b\b\b\b\b\b\b\b\b\b\b\b\b\b\b\b\b\b\b\b\b\b\b\b\b\b\b\n",
            "Epoch 9/40\n",
            "50000/50000 [==============================] - 31s 611us/step - loss: 0.6291 - accuracy: 0.7967 - val_loss: 0.6439 - val_accuracy: 0.7945\b\b\b\b\b\b\b\b\b\b\b\b\b\b\b\b\b\b\b\b\b\b\b\b\b\b\b\b\b\b\b\b\b\b\b\b\b\b\b\b\b\n",
            "Epoch 10/40\n",
            "50000/50000 [==============================] - 30s 607us/step - loss: 0.6037 - accuracy: 0.8047 - val_loss: 0.6203 - val_accuracy: 0.8056\b\b\b\b\b\b\b\b\b\b\b\b\b\b\b\b\b\b\b\b\b\b\b\b\b\b\b\b\b\b\b\b\b\b\b\b\b\b\b\b\b\n",
            "Epoch 11/40\n",
            "50000/50000 [==============================] - 31s 613us/step - loss: 0.5831 - accuracy: 0.8138 - val_loss: 0.6422 - val_accuracy: 0.7982\b\b\b\b\b\b\b\b\b\b\b\b\b\b\b\b\b\b\b\b\b\b\b\b\b\b\b\b\b\b\b\b\b\b\b\b\b\b\b\b\b\n",
            "Epoch 12/40\n",
            "50000/50000 [==============================] - 31s 610us/step - loss: 0.5594 - accuracy: 0.8193 - val_loss: 0.6397 - val_accuracy: 0.8020\b\b\b\b\b\b\b\b\b\b\b\b\b\b\b\b\b\b\b\b\b\b\b\b\b\b\b\b\b\b\b\b\b\b\b\b\b\b\b\b\b\n",
            "Epoch 13/40\n",
            "50000/50000 [==============================] - 31s 613us/step - loss: 0.5467 - accuracy: 0.8250 - val_loss: 0.6011 - val_accuracy: 0.8122\b\b\b\b\b\b\b\b\b\b\b\b\b\b\b\b\b\b\b\b\b\b\b\b\b\b\b\b\b\b\b\b\b\b\b\b\b\b\b\b\b\n",
            "Epoch 14/40\n",
            "50000/50000 [==============================] - 31s 611us/step - loss: 0.5238 - accuracy: 0.8338 - val_loss: 0.5912 - val_accuracy: 0.8177\b\b\b\b\b\b\b\b\b\b\b\b\b\b\b\b\b\b\b\b\b\b\b\b\b\b\b\b\b\b\b\b\b\b\b\b\b\b\b\b\b\n",
            "Epoch 15/40\n",
            "50000/50000 [==============================] - 30s 610us/step - loss: 0.5123 - accuracy: 0.8378 - val_loss: 0.5833 - val_accuracy: 0.8175\b\b\b\b\b\b\b\b\b\b\b\b\b\b\b\b\b\b\b\b\b\b\b\b\b\b\b\b\b\b\b\b\b\b\b\b\b\b\b\b\b\n",
            "Epoch 16/40\n",
            "50000/50000 [==============================] - 31s 611us/step - loss: 0.4983 - accuracy: 0.8430 - val_loss: 0.5863 - val_accuracy: 0.8199\b\b\b\b\b\b\b\b\b\b\b\b\b\b\b\b\b\b\b\b\b\b\b\b\b\b\b\b\b\b\b\b\b\b\b\b\b\b\b\b\b\n",
            "Epoch 17/40\n",
            "50000/50000 [==============================] - 31s 611us/step - loss: 0.4861 - accuracy: 0.8472 - val_loss: 0.5886 - val_accuracy: 0.8226\b\b\b\b\b\b\b\b\b\b\b\b\b\b\b\b\b\b\b\b\b\b\b\b\b\b\b\b\b\b\b\b\b\b\b\b\b\b\b\b\b\n",
            "Epoch 18/40\n",
            "50000/50000 [==============================] - 30s 610us/step - loss: 0.4734 - accuracy: 0.8500 - val_loss: 0.5581 - val_accuracy: 0.8264\b\b\b\b\b\b\b\b\b\b\b\b\b\b\b\b\b\b\b\b\b\b\b\b\b\b\b\b\b\b\b\b\b\b\b\b\b\b\b\b\b\n",
            "Epoch 19/40\n",
            "50000/50000 [==============================] - 31s 614us/step - loss: 0.4574 - accuracy: 0.8558 - val_loss: 0.5637 - val_accuracy: 0.8311\b\b\b\b\b\b\b\b\b\b\b\b\b\b\b\b\b\b\b\b\b\b\b\b\b\b\b\b\b\b\b\b\b\b\b\b\b\b\b\b\b\n",
            "Epoch 20/40\n",
            "50000/50000 [==============================] - 31s 617us/step - loss: 0.4493 - accuracy: 0.8612 - val_loss: 0.5635 - val_accuracy: 0.8291\b\b\b\b\b\b\b\b\b\b\b\b\b\b\b\b\b\b\b\b\b\b\b\b\b\b\b\b\b\b\b\b\b\b\b\b\b\b\b\b\b\n",
            "Epoch 21/40\n",
            "50000/50000 [==============================] - 31s 617us/step - loss: 0.4400 - accuracy: 0.8627 - val_loss: 0.5512 - val_accuracy: 0.8325\b\b\b\b\b\b\b\b\b\b\b\b\b\b\b\b\b\b\b\b\b\b\b\b\b\b\b\b\b\b\b\b\b\b\b\b\b\b\b\b\b\n",
            "Epoch 22/40\n",
            "50000/50000 [==============================] - 31s 618us/step - loss: 0.4306 - accuracy: 0.8687 - val_loss: 0.5534 - val_accuracy: 0.8334\b\b\b\b\b\b\b\b\b\b\b\b\b\b\b\b\b\b\b\b\b\b\b\b\b\b\b\b\b\b\b\b\b\b\b\b\b\b\b\b\b\n",
            "Epoch 23/40\n",
            "50000/50000 [==============================] - 31s 615us/step - loss: 0.4215 - accuracy: 0.8681 - val_loss: 0.5608 - val_accuracy: 0.8311\b\b\b\b\b\b\b\b\b\b\b\b\b\b\b\b\b\b\b\b\b\b\b\b\b\b\b\b\b\b\b\b\b\b\b\b\b\b\b\b\b\n",
            "Epoch 24/40\n",
            "50000/50000 [==============================] - 31s 616us/step - loss: 0.4069 - accuracy: 0.8744 - val_loss: 0.5634 - val_accuracy: 0.8305\b\b\b\b\b\b\b\b\b\b\b\b\b\b\b\b\b\b\b\b\b\b\b\b\b\b\b\b\b\b\b\b\b\b\b\b\b\b\b\b\b\n",
            "Epoch 25/40\n",
            "50000/50000 [==============================] - 31s 612us/step - loss: 0.3993 - accuracy: 0.8765 - val_loss: 0.5545 - val_accuracy: 0.8322\b\b\b\b\b\b\b\b\b\b\b\b\b\b\b\b\b\b\b\b\b\b\b\b\b\b\b\b\b\b\b\b\b\b\b\b\b\b\b\b\b\n",
            "Epoch 26/40\n",
            "50000/50000 [==============================] - 31s 614us/step - loss: 0.3924 - accuracy: 0.8791 - val_loss: 0.5601 - val_accuracy: 0.8328\b\b\b\b\b\b\b\b\b\b\b\b\b\b\b\b\b\b\b\b\b\b\b\b\b\b\b\b\b\b\b\b\b\b\b\b\b\b\b\b\b\n",
            "Epoch 27/40\n",
            "50000/50000 [==============================] - 31s 611us/step - loss: 0.3844 - accuracy: 0.8813 - val_loss: 0.5717 - val_accuracy: 0.8288\b\b\b\b\b\b\b\b\b\b\b\b\b\b\b\b\b\b\b\b\b\b\b\b\b\b\b\b\b\b\b\b\b\b\b\b\b\b\b\b\b\n",
            "Epoch 28/40\n",
            "50000/50000 [==============================] - 30s 609us/step - loss: 0.3758 - accuracy: 0.8837 - val_loss: 0.5473 - val_accuracy: 0.8372\b\b\b\b\b\b\b\b\b\b\b\b\b\b\b\b\b\b\b\b\b\b\b\b\b\b\b\b\b\b\b\b\b\b\b\b\b\b\b\b\b\n",
            "Epoch 29/40\n",
            "50000/50000 [==============================] - 31s 611us/step - loss: 0.3711 - accuracy: 0.8856 - val_loss: 0.5396 - val_accuracy: 0.8391\b\b\b\b\b\b\b\b\b\b\b\b\b\b\b\b\b\b\b\b\b\b\b\b\b\b\b\b\b\b\b\b\b\b\b\b\b\b\b\b\b\n",
            "Epoch 30/40\n",
            "50000/50000 [==============================] - 30s 610us/step - loss: 0.3637 - accuracy: 0.8888 - val_loss: 0.5517 - val_accuracy: 0.8367\b\b\b\b\b\b\b\b\b\b\b\b\b\b\b\b\b\b\b\b\b\b\b\b\b\b\b\b\b\b\b\b\b\b\b\b\b\b\b\b\b\n",
            "Epoch 31/40\n",
            "50000/50000 [==============================] - 31s 611us/step - loss: 0.3570 - accuracy: 0.8917 - val_loss: 0.5528 - val_accuracy: 0.8376\b\b\b\b\b\b\b\b\b\b\b\b\b\b\b\b\b\b\b\b\b\b\b\b\b\b\b\b\b\b\b\b\b\b\b\b\b\b\b\b\b\n",
            "Epoch 32/40\n",
            "50000/50000 [==============================] - 31s 610us/step - loss: 0.3522 - accuracy: 0.8928 - val_loss: 0.5491 - val_accuracy: 0.8416\b\b\b\b\b\b\b\b\b\b\b\b\b\b\b\b\b\b\b\b\b\b\b\b\b\b\b\b\b\b\b\b\b\b\b\b\b\b\b\b\b\n",
            "Epoch 33/40\n",
            "50000/50000 [==============================] - 31s 611us/step - loss: 0.3462 - accuracy: 0.8948 - val_loss: 0.5576 - val_accuracy: 0.8389\b\b\b\b\b\b\b\b\b\b\b\b\b\b\b\b\b\b\b\b\b\b\b\b\b\b\b\b\b\b\b\b\b\b\b\b\b\b\b\b\b\n",
            "Epoch 34/40\n",
            "50000/50000 [==============================] - 31s 618us/step - loss: 0.3384 - accuracy: 0.8978 - val_loss: 0.5384 - val_accuracy: 0.8430\b\b\b\b\b\b\b\b\b\b\b\b\b\b\b\b\b\b\b\b\b\b\b\b\b\b\b\b\b\b\b\b\b\b\b\b\b\b\b\b\b\n",
            "Epoch 35/40\n",
            "50000/50000 [==============================] - 31s 612us/step - loss: 0.3314 - accuracy: 0.8993 - val_loss: 0.5453 - val_accuracy: 0.8412\b\b\b\b\b\b\b\b\b\b\b\b\b\b\b\b\b\b\b\b\b\b\b\b\b\b\b\b\b\b\b\b\b\b\b\b\b\b\b\b\b\n",
            "Epoch 36/40\n",
            "50000/50000 [==============================] - 30s 610us/step - loss: 0.3279 - accuracy: 0.9003 - val_loss: 0.5462 - val_accuracy: 0.8428\b\b\b\b\b\b\b\b\b\b\b\b\b\b\b\b\b\b\b\b\b\b\b\b\b\b\b\b\b\b\b\b\b\b\b\b\b\b\b\b\b\n",
            "Epoch 37/40\n",
            "50000/50000 [==============================] - 31s 610us/step - loss: 0.3211 - accuracy: 0.9031 - val_loss: 0.5589 - val_accuracy: 0.8393\b\b\b\b\b\b\b\b\b\b\b\b\b\b\b\b\b\b\b\b\b\b\b\b\b\b\b\b\b\b\b\b\b\b\b\b\b\b\b\b\b\n",
            "Epoch 38/40\n",
            "50000/50000 [==============================] - 30s 610us/step - loss: 0.3212 - accuracy: 0.9032 - val_loss: 0.5644 - val_accuracy: 0.8386\b\b\b\b\b\b\b\b\b\b\b\b\b\b\b\b\b\b\b\b\b\b\b\b\b\b\b\b\b\b\b\b\b\b\b\b\b\b\b\b\b\n",
            "Epoch 39/40\n",
            "50000/50000 [==============================] - 31s 610us/step - loss: 0.3108 - accuracy: 0.9061 - val_loss: 0.5475 - val_accuracy: 0.8453\b\b\b\b\b\b\b\b\b\b\b\b\b\b\b\b\b\b\b\b\b\b\b\b\b\b\b\b\b\b\b\b\b\b\b\b\b\b\b\b\b\n",
            "Epoch 40/40\n",
            "50000/50000 [==============================] - 31s 613us/step - loss: 0.3037 - accuracy: 0.9086 - val_loss: 0.5453 - val_accuracy: 0.8451\b\b\b\b\b\b\b\b\b\b\b\b\b\b\b\b\b\b\b\b\b\b\b\b\b\b\b\b\b\b\b\b\b\b\b\b\b\b\b\b\b\n"
          ]
        },
        {
          "output_type": "display_data",
          "data": {
            "text/plain": "<Figure size 432x288 with 1 Axes>",
            "image/png": "[encoded data removed]"
          },
          "metadata": {
            "needs_background": "light"
          }
        },
        {
          "output_type": "stream",
          "name": "stdout",
          "text": [
            "Accuracy: 84.51%\n"
          ]
        }
      ],
      "execution_count": 1,
      "metadata": {
        "gather": {
          "logged": 1614373884101
        }
      }
    }
  ],
  "metadata": {
    "kernelspec": {
      "name": "python3-azureml",
      "language": "python",
      "display_name": "Python 3.6 - AzureML"
    },
    "language_info": {
      "name": "python",
      "version": "3.6.9",
      "mimetype": "text/x-python",
      "codemirror_mode": {
        "name": "ipython",
        "version": 3
      },
      "pygments_lexer": "ipython3",
      "nbconvert_exporter": "python",
      "file_extension": ".py"
    },
    "kernel_info": {
      "name": "python3-azureml"
    },
    "nteract": {
      "version": "nteract-front-end@1.0.0"
    }
  },
  "nbformat": 4,
  "nbformat_minor": 2
}