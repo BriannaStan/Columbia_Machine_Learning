{
 "cells": [
  {
   "cell_type": "code",
   "execution_count": 1,
   "metadata": {},
   "outputs": [
    {
     "name": "stdout",
     "output_type": "stream",
     "text": [
      "Index(['Avg. Area Income', 'Avg. Area House Age', 'Avg. Area Number of Rooms',\n",
      "       'Avg. Area Number of Bedrooms', 'Area Population', 'Price', 'Address'],\n",
      "      dtype='object')\n",
      "      Avg. Area Income  Avg. Area House Age  Avg. Area Number of Rooms  \\\n",
      "0         79545.458574             5.682861                   7.009188   \n",
      "1         79248.642455             6.002900                   6.730821   \n",
      "2         61287.067179             5.865890                   8.512727   \n",
      "3         63345.240046             7.188236                   5.586729   \n",
      "4         59982.197226             5.040555                   7.839388   \n",
      "...                ...                  ...                        ...   \n",
      "4995      60567.944140             7.830362                   6.137356   \n",
      "4996      78491.275435             6.999135                   6.576763   \n",
      "4997      63390.686886             7.250591                   4.805081   \n",
      "4998      68001.331235             5.534388                   7.130144   \n",
      "4999      65510.581804             5.992305                   6.792336   \n",
      "\n",
      "      Avg. Area Number of Bedrooms  Area Population  \n",
      "0                             4.09     23086.800503  \n",
      "1                             3.09     40173.072174  \n",
      "2                             5.13     36882.159400  \n",
      "3                             3.26     34310.242831  \n",
      "4                             4.23     26354.109472  \n",
      "...                            ...              ...  \n",
      "4995                          3.46     22837.361035  \n",
      "4996                          4.02     25616.115489  \n",
      "4997                          2.13     33266.145490  \n",
      "4998                          5.44     42625.620156  \n",
      "4999                          4.07     46501.283803  \n",
      "\n",
      "[5000 rows x 5 columns]\n",
      "0       1.059034e+06\n",
      "1       1.505891e+06\n",
      "2       1.058988e+06\n",
      "3       1.260617e+06\n",
      "4       6.309435e+05\n",
      "            ...     \n",
      "4995    1.060194e+06\n",
      "4996    1.482618e+06\n",
      "4997    1.030730e+06\n",
      "4998    1.198657e+06\n",
      "4999    1.298950e+06\n",
      "Name: Price, Length: 5000, dtype: float64\n",
      "Coefficient of determination 0.9146\n"
     ]
    }
   ],
   "source": [
    "from sklearn.model_selection import train_test_split\n",
    "from sklearn import linear_model\n",
    "import pandas\n",
    "from sklearn.metrics import r2_score\n",
    "\n",
    "data = pandas.read_csv(\"USA_Housing.csv\");\n",
    "#clean data with missing features rows that have not all features\n",
    "data = data.dropna(axis=0)\n",
    "\n",
    "X = data.copy()\n",
    "y = data['Price'].copy()\n",
    "\n",
    "print(data.columns)\n",
    "\n",
    "#remove unrelated data from X, labeled data\n",
    "toDrop = {'Address','Price'}\n",
    "X.drop(toDrop, inplace=True, axis = 1)\n",
    "\n",
    "print(X);\n",
    "print(y);\n",
    "\n",
    "X_train, X_test, y_train, y_test = train_test_split(X, y, test_size=0.2, random_state=0)\n",
    "\n",
    "regr = linear_model.LinearRegression()\n",
    "y_pred = regr.fit(X_train, y_train).predict(X_test)\n",
    "\n",
    "#Coefficient of determination works like accuracy if it's 1 it's perfect\n",
    "print('Coefficient of determination %.4f' % r2_score(y_test, y_pred))"
   ]
  },
  {
   "cell_type": "code",
   "execution_count": null,
   "metadata": {},
   "outputs": [],
   "source": []
  }
 ],
 "metadata": {
  "kernelspec": {
   "display_name": "Python 3",
   "language": "python",
   "name": "python3"
  },
  "language_info": {
   "codemirror_mode": {
    "name": "ipython",
    "version": 3
   },
   "file_extension": ".py",
   "mimetype": "text/x-python",
   "name": "python",
   "nbconvert_exporter": "python",
   "pygments_lexer": "ipython3",
   "version": "3.8.5"
  }
 },
 "nbformat": 4,
 "nbformat_minor": 4
}
